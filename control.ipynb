{
 "cells": [
  {
   "cell_type": "code",
   "execution_count": 5,
   "id": "0dbf3d56",
   "metadata": {},
   "outputs": [],
   "source": [
    "import serial \n",
    "from serial.tools import list_ports\n",
    "from sre_constants import FAILURE, SUCCESS\n",
    "VID = [\"10C4\", \"00\"]\n",
    "PID = [\"EA60\", \"00\"]\n",
    "port = [\"Device-1\", 'Device-2']\n",
    "class DAC_Control:\n",
    "    def __init__(self, BAUD):\n",
    "        self.BAUD = BAUD\n",
    "        device_list = list_ports.comports()\n",
    "        for device in device_list:\n",
    "            if(device.vid != None or device.pid != None):\n",
    "#                 print(('{:04X}'.format(device.vid)))\n",
    "                if ('{:04X}'.format(device.vid) == VID[0] and '{:04X}'.format(device.pid) == PID[0]):\n",
    "#                 if (device.vid == VID[0] and device.pid == PID[0]):\n",
    "#                     print(\"Hello\")\n",
    "                    port[0] = device.device\n",
    "                    print(port[0])\n",
    "                elif ('{:04X}'.format(device.vid) == VID[1] and '{:04X}'.format(device.pid) == PID[1]):\n",
    "                    port[1] = device.device\n",
    "                else:\n",
    "                    port[0] = None\n",
    "                    port[1] = None\n",
    "\n",
    "    def dacWrite(self, deviceID, dacID, value):\n",
    "#         Frame Format: FF00 + dacID(8bits) + data + AAFF\n",
    "#         frame = bin(65280).replace(\"0b\",\"\") + bin(dacID).replace(\"0b\",\"\").zfill(8) + bin(value).replace(\"0b\",\"\") + bin(43775).replace(\"0b\",\"\")\n",
    "#         frame = str(bin(dacID).replace(\"0b\",\"\")) + str(bin(value).replace(\"0b\",\"\"))\n",
    "#         frame = (\"FF00\").encode('ASCII') + str(dacID).encode('ASCII') + str(value).encode('ASCII') + (\"AAFF\").encode('ASCII')\n",
    "        frame = str(dacID) + str(value)\n",
    "        device = serial.Serial(port[deviceID], baudrate = self.BAUD)\n",
    "        # device = serial.Serial(\"/dev/cd.usbmodem11301\", baudrate = self.BAUD)\n",
    "\n",
    "#         if device.in_waiting:\n",
    "#             try:\n",
    "#                 data = device.readLine()\n",
    "#             except:\n",
    "#                 print(\"COM PORT Error!\")\n",
    "#                 quit()\n",
    "\n",
    "        byte = device.write(frame.encode())\n",
    "#         data = device.read()\n",
    "        print(byte, \" bytes written to COM PORT\")\n",
    "#         device.close()\n",
    "        readBack = device.readline()\n",
    "        print(readBack)\n",
    "        device.close()\n",
    "        return 1 if byte>1 else 0\n",
    "        # return SUCCESS if readBack == frame else FAILURE\n",
    "\n",
    "    def getAvailableDevices(self):\n",
    "        return port\n",
    "    "
   ]
  },
  {
   "cell_type": "code",
   "execution_count": 6,
   "id": "9101b43f",
   "metadata": {},
   "outputs": [
    {
     "name": "stdout",
     "output_type": "stream",
     "text": [
      "/dev/cu.usbserial-0001\n",
      "['/dev/cu.usbserial-0001', 'Device-2']\n"
     ]
    }
   ],
   "source": [
    "d1 = DAC_Control(115200)\n",
    "\n",
    "deviceAvailable = d1.getAvailableDevices()\n",
    "print(deviceAvailable)"
   ]
  },
  {
   "cell_type": "code",
   "execution_count": 7,
   "id": "039a2264",
   "metadata": {},
   "outputs": [
    {
     "name": "stdout",
     "output_type": "stream",
     "text": [
      "5  bytes written to COM PORT\n",
      "b'\\n'\n"
     ]
    }
   ],
   "source": [
    "result = d1.dacWrite(0,1,4095)\n",
    "# print(result)"
   ]
  },
  {
   "cell_type": "code",
   "execution_count": null,
   "id": "b3dd7ffd",
   "metadata": {},
   "outputs": [],
   "source": []
  },
  {
   "cell_type": "code",
   "execution_count": null,
   "id": "1c993328",
   "metadata": {},
   "outputs": [],
   "source": []
  },
  {
   "cell_type": "code",
   "execution_count": null,
   "id": "6a801683",
   "metadata": {},
   "outputs": [],
   "source": []
  },
  {
   "cell_type": "code",
   "execution_count": null,
   "id": "07371edd",
   "metadata": {},
   "outputs": [],
   "source": []
  }
 ],
 "metadata": {
  "kernelspec": {
   "display_name": "Python 3.9.12 ('base')",
   "language": "python",
   "name": "python3"
  },
  "language_info": {
   "codemirror_mode": {
    "name": "ipython",
    "version": 3
   },
   "file_extension": ".py",
   "mimetype": "text/x-python",
   "name": "python",
   "nbconvert_exporter": "python",
   "pygments_lexer": "ipython3",
   "version": "3.9.12"
  },
  "vscode": {
   "interpreter": {
    "hash": "81c7c40f792e0a7d4c99fbb0591d2b5490a4fd45f05bb1630f53096a7ddf8bfe"
   }
  },
  "widgets": {
   "application/vnd.jupyter.widget-state+json": {
    "state": {},
    "version_major": 2,
    "version_minor": 0
   }
  }
 },
 "nbformat": 4,
 "nbformat_minor": 5
}
